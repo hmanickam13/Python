{
 "cells": [
  {
   "cell_type": "code",
   "execution_count": 1,
   "metadata": {},
   "outputs": [],
   "source": [
    "import pandas as pd\n",
    "import numpy as np\n",
    "import seaborn as sns\n",
    "import os\n",
    "from scipy.stats import zscore\n",
    "import matplotlib.pyplot as plt\n",
    "from scipy import stats\n",
    "import statsmodels.api as sm\n",
    "from sklearn.decomposition import PCA\n",
    "from sklearn.preprocessing import StandardScaler\n",
    "from statsmodels.stats.anova import _get_covariance,anova_lm\n",
    "from statsmodels.formula.api import ols"
   ]
  },
  {
   "cell_type": "markdown",
   "metadata": {},
   "source": [
    "### Question 1"
   ]
  },
  {
   "cell_type": "code",
   "execution_count": 2,
   "metadata": {},
   "outputs": [],
   "source": [
    "salary=pd.read_csv('SalaryData.csv')"
   ]
  },
  {
   "cell_type": "code",
   "execution_count": 3,
   "metadata": {},
   "outputs": [
    {
     "data": {
      "text/html": [
       "<div>\n",
       "<style scoped>\n",
       "    .dataframe tbody tr th:only-of-type {\n",
       "        vertical-align: middle;\n",
       "    }\n",
       "\n",
       "    .dataframe tbody tr th {\n",
       "        vertical-align: top;\n",
       "    }\n",
       "\n",
       "    .dataframe thead th {\n",
       "        text-align: right;\n",
       "    }\n",
       "</style>\n",
       "<table border=\"1\" class=\"dataframe\">\n",
       "  <thead>\n",
       "    <tr style=\"text-align: right;\">\n",
       "      <th></th>\n",
       "      <th>Education</th>\n",
       "      <th>Occupation</th>\n",
       "      <th>Salary</th>\n",
       "    </tr>\n",
       "  </thead>\n",
       "  <tbody>\n",
       "    <tr>\n",
       "      <th>0</th>\n",
       "      <td>Doctorate</td>\n",
       "      <td>Adm-clerical</td>\n",
       "      <td>153197</td>\n",
       "    </tr>\n",
       "    <tr>\n",
       "      <th>1</th>\n",
       "      <td>Doctorate</td>\n",
       "      <td>Adm-clerical</td>\n",
       "      <td>115945</td>\n",
       "    </tr>\n",
       "    <tr>\n",
       "      <th>2</th>\n",
       "      <td>Doctorate</td>\n",
       "      <td>Adm-clerical</td>\n",
       "      <td>175935</td>\n",
       "    </tr>\n",
       "    <tr>\n",
       "      <th>3</th>\n",
       "      <td>Doctorate</td>\n",
       "      <td>Adm-clerical</td>\n",
       "      <td>220754</td>\n",
       "    </tr>\n",
       "    <tr>\n",
       "      <th>4</th>\n",
       "      <td>Doctorate</td>\n",
       "      <td>Sales</td>\n",
       "      <td>170769</td>\n",
       "    </tr>\n",
       "  </tbody>\n",
       "</table>\n",
       "</div>"
      ],
      "text/plain": [
       "    Education     Occupation  Salary\n",
       "0   Doctorate   Adm-clerical  153197\n",
       "1   Doctorate   Adm-clerical  115945\n",
       "2   Doctorate   Adm-clerical  175935\n",
       "3   Doctorate   Adm-clerical  220754\n",
       "4   Doctorate          Sales  170769"
      ]
     },
     "execution_count": 3,
     "metadata": {},
     "output_type": "execute_result"
    }
   ],
   "source": [
    "salary.head()"
   ]
  },
  {
   "cell_type": "code",
   "execution_count": 4,
   "metadata": {},
   "outputs": [
    {
     "data": {
      "text/plain": [
       "(40, 3)"
      ]
     },
     "execution_count": 4,
     "metadata": {},
     "output_type": "execute_result"
    }
   ],
   "source": [
    "salary.shape"
   ]
  },
  {
   "cell_type": "code",
   "execution_count": 5,
   "metadata": {},
   "outputs": [
    {
     "name": "stdout",
     "output_type": "stream",
     "text": [
      "<class 'pandas.core.frame.DataFrame'>\n",
      "RangeIndex: 40 entries, 0 to 39\n",
      "Data columns (total 3 columns):\n",
      " #   Column      Non-Null Count  Dtype \n",
      "---  ------      --------------  ----- \n",
      " 0   Education   40 non-null     object\n",
      " 1   Occupation  40 non-null     object\n",
      " 2   Salary      40 non-null     int64 \n",
      "dtypes: int64(1), object(2)\n",
      "memory usage: 1.1+ KB\n"
     ]
    }
   ],
   "source": [
    "salary.info()"
   ]
  },
  {
   "cell_type": "markdown",
   "metadata": {},
   "source": [
    "## 1.1 State the null and the alternate hypothesis for conducting one-way ANOVA for both Education and Occupation individually.\n",
    "\n",
    "We have a total of three variables:\n",
    "1. Education  (Type: Categorical)\n",
    "2. Salary     (Type: Continuous)\n",
    "3. Occupation (Type: Categorical)\n",
    "\n",
    "The dependent variable is   : Salary\n",
    "The independent variable is : Education & Occupation\n",
    "\n",
    "### Hypothesis for Education vs Salary\n",
    "\n",
    "- H0 : Salary is equal across different education groups.\n",
    "- H1 : Atleast one of the means of Salary variable with respect to Education is unequal across different education groups.\n",
    "\n",
    "\n",
    "### Hypothesis for Occupation vs Salary\n",
    "\n",
    "- H0 : Salary is equal across different occupation groups.\n",
    "- H1 : Atleast one of the means of Salary variable with respect to Occupation is unequal across different occupation groups.\n",
    "\n",
    "\n",
    "## 1.2 Perform a one-way ANOVA on Salary with respect to Education. State whether the null hypothesis is accepted or rejected based on the ANOVA results.\n",
    "\n",
    "We assume significance value to be 0.05."
   ]
  },
  {
   "cell_type": "code",
   "execution_count": 6,
   "metadata": {},
   "outputs": [
    {
     "name": "stdout",
     "output_type": "stream",
     "text": [
      "                df        sum_sq       mean_sq         F        PR(>F)\n",
      "C(Education)   2.0  1.026955e+11  5.134773e+10  30.95628  1.257709e-08\n",
      "Residual      37.0  6.137256e+10  1.658718e+09       NaN           NaN\n"
     ]
    }
   ],
   "source": [
    "formula = 'Salary ~ C(Education)'\n",
    "model = ols(formula, salary).fit()\n",
    "aov_table = anova_lm(model)\n",
    "print(aov_table)"
   ]
  },
  {
   "cell_type": "markdown",
   "metadata": {},
   "source": [
    "The p value is less than 0.05.\n",
    "\n",
    "Hence we reject the null hypothesis.\n",
    "\n",
    "H1 : Atleast one of the means of Salary variable with respect to Education is unequal across different education groups.\n",
    "\n",
    "## 1.3 Perform a one-way ANOVA on Salary with respect to Occupation. State whether the null hypothesis is accepted or rejected based on the ANOVA results."
   ]
  },
  {
   "cell_type": "code",
   "execution_count": 7,
   "metadata": {},
   "outputs": [
    {
     "name": "stdout",
     "output_type": "stream",
     "text": [
      "                 df        sum_sq       mean_sq         F    PR(>F)\n",
      "C(Occupation)   3.0  1.125878e+10  3.752928e+09  0.884144  0.458508\n",
      "Residual       36.0  1.528092e+11  4.244701e+09       NaN       NaN\n"
     ]
    }
   ],
   "source": [
    "formula = 'Salary ~ C(Occupation)'\n",
    "model = ols(formula, salary).fit()\n",
    "aov_table = anova_lm(model)\n",
    "print(aov_table)"
   ]
  },
  {
   "cell_type": "markdown",
   "metadata": {},
   "source": [
    "The p value is greater than 0.05.\n",
    "\n",
    "Hence we fail to reject the null hypothesis.\n",
    "\n",
    "H1 : Atleast one of the means of Salary variable with respect to Occupation is unequal across different occupation groups.\n",
    "\n",
    "## 1.4 If the null hypothesis is rejected in either (2) or in (3), find out which class means are significantly different. Interpret the result"
   ]
  },
  {
   "cell_type": "code",
   "execution_count": 8,
   "metadata": {},
   "outputs": [
    {
     "data": {
      "image/png": "[encoded data removed]",
      "text/plain": [
       "<Figure size 432x288 with 1 Axes>"
      ]
     },
     "metadata": {
      "needs_background": "light"
     },
     "output_type": "display_data"
    }
   ],
   "source": [
    "a = sns.boxplot(x= \"Education\", y = 'Salary', data = salary)\n",
    "a.set_title(\"Education vs Salary\",fontsize=15)\n",
    "plt.show()"
   ]
  },
  {
   "cell_type": "markdown",
   "metadata": {},
   "source": [
    "The mean salaries of all educational qualifications are varied. The mean salary of high school graduates are trhe most varied.\n",
    "\n",
    "From the box plot, we can interpret that the salary for a person is highly dependent on their educational qualification.\n",
    "\n",
    "## 1.5 What is the interaction between two treatments? Analyze the effects of one variable on the other (Education and Occupation) with the help of an interaction plot.\n"
   ]
  },
  {
   "cell_type": "code",
   "execution_count": 9,
   "metadata": {},
   "outputs": [
    {
     "data": {
      "image/png": "[encoded data removed]",
      "text/plain": [
       "<Figure size 432x288 with 1 Axes>"
      ]
     },
     "metadata": {
      "needs_background": "light"
     },
     "output_type": "display_data"
    }
   ],
   "source": [
    "sns.pointplot(x='Occupation', y='Salary', hue='Education', data=salary,ci=None)\n",
    "plt.show()"
   ]
  },
  {
   "cell_type": "code",
   "execution_count": 10,
   "metadata": {},
   "outputs": [
    {
     "data": {
      "image/png": "[encoded data removed]",
      "text/plain": [
       "<Figure size 432x288 with 1 Axes>"
      ]
     },
     "metadata": {
      "needs_background": "light"
     },
     "output_type": "display_data"
    }
   ],
   "source": [
    "sns.pointplot(x='Education', y='Salary', hue='Occupation', data=salary,ci=None)\n",
    "plt.show()"
   ]
  },
  {
   "cell_type": "markdown",
   "metadata": {},
   "source": [
    "From the above two interaction plots, we can observe that there is an interaction between the two variables Education and Occupation.\n",
    "\n",
    "### Observations\n",
    "1. More the educational qualification, higher the salary\n",
    "2. A person with doctorate as his/her educational qualification and works in Prof-speciality recieves the highest salary.\n",
    "3. A person with HS grad as his/her educational qualification and works in Sales recieves the lowest salary.\n",
    "4. The salary increase for a person working in Prof-speciality with bachelors degree and doctorate degree is huge.\n",
    "5. The salary increase for a person working in sales with bachelors degree and HS grad is huge.\n",
    "6. There is not much salary difference between a person with a bachelors degree and a doctorate degree working in Adm-clerical.\n",
    "7. There is not much salary difference between a person with a bachelors degree and a doctorate degree working in sales.\n",
    "\n",
    "## 1.6 Perform a two-way ANOVA based on Salary with respect to both Education and Occupation (along with their interaction Education*Occupation). State the null and alternative hypotheses and state your results. How will you interpret this result?\n",
    "Formulate the hypothesis of ANOVA with both Education and Occupation variables with respect to the variable Salary\n",
    "\n",
    "- H0 : The means of Salary with respect to the interaction of both Education and Occupation is equal.\n",
    "- H1 : Atleast one of the means of Salary with respect to the interaction of both Education and Occupation category is unequal."
   ]
  },
  {
   "cell_type": "code",
   "execution_count": 11,
   "metadata": {},
   "outputs": [
    {
     "name": "stdout",
     "output_type": "stream",
     "text": [
      "                 df        sum_sq       mean_sq          F        PR(>F)\n",
      "C(Education)    2.0  1.026955e+11  5.134773e+10  31.257677  1.981539e-08\n",
      "C(Occupation)   3.0  5.519946e+09  1.839982e+09   1.120080  3.545825e-01\n",
      "Residual       34.0  5.585261e+10  1.642724e+09        NaN           NaN\n"
     ]
    }
   ],
   "source": [
    "formula = 'Salary ~ C(Education) + C(Occupation)'\n",
    "model = ols(formula, salary).fit()\n",
    "aov_table = anova_lm(model)\n",
    "print(aov_table)"
   ]
  },
  {
   "cell_type": "markdown",
   "metadata": {},
   "source": [
    "The p value of Education is less than 0.05. So it is a significant factor.\n",
    "The p value of Occupation is greater than 0.05. So it is not a significant factor.\n",
    "\n",
    "Next we measure the interaction effect."
   ]
  },
  {
   "cell_type": "code",
   "execution_count": 12,
   "metadata": {},
   "outputs": [
    {
     "name": "stdout",
     "output_type": "stream",
     "text": [
      "                              df        sum_sq       mean_sq          F  \\\n",
      "C(Education)                 2.0  1.026955e+11  5.134773e+10  72.211958   \n",
      "C(Occupation)                3.0  5.519946e+09  1.839982e+09   2.587626   \n",
      "C(Education):C(Occupation)   6.0  3.634909e+10  6.058182e+09   8.519815   \n",
      "Residual                    29.0  2.062102e+10  7.110697e+08        NaN   \n",
      "\n",
      "                                  PR(>F)  \n",
      "C(Education)                5.466264e-12  \n",
      "C(Occupation)               7.211580e-02  \n",
      "C(Education):C(Occupation)  2.232500e-05  \n",
      "Residual                             NaN  \n"
     ]
    }
   ],
   "source": [
    "model=ols('Salary~C(Education)+C(Occupation)+C(Education):C(Occupation)',data=salary).fit()\n",
    "aov_table=anova_lm(model)\n",
    "print(aov_table)"
   ]
  },
  {
   "cell_type": "markdown",
   "metadata": {},
   "source": [
    "We can observe that the interaction between Education and Occupation is less than 0.05. There is an interaction\n",
    "\n",
    "Occupation as a separate individual variable is giving a different interpretation.\n",
    "\n",
    "Hence we reject the null hypothesis.\n",
    "\n",
    "H1 : Atleast one of the means of Salary with respect to the interaction of both Education and Occupation category is unequal.\n",
    "\n",
    "Occupation individually does not have a significant impact on salary.\n",
    "Both Education & Occupation as variables in combination play a significant part in determining the salary.\n",
    "\n",
    "\n",
    "## 1.7 Explain the business implications of performing ANOVA for this particular case study.\n",
    "\n",
    "ANOVA helps us to identify the independent factors which can explain the variation obtained in the response variable. \n",
    "\n",
    "In our case study, we observe that:\n",
    "1. Education has a significant impact on Salary\n",
    "2. Occupation does not have a significant impact on salary.\n",
    "3. The interaction of Education & Occupation has a significant impact on salary.\n",
    "4. More the educational qualification, higher the salary\n",
    "5. A person with doctorate as his/her educational qualification and works in Prof-speciality recieves the highest salary.\n",
    "6. A person with HS grad as his/her educational qualification and works in Sales recieves the lowest salary.\n",
    "7. The salary increase for a person working in Prof-speciality with bachelors degree and doctorate degree is huge.\n",
    "8. The salary increase for a person working in sales with bachelors degree and HS grad is huge.\n",
    "9. There is not much salary difference between a person with a bachelors degree and a doctorate degree working in Adm-clerical.\n",
    "10. There is not much salary difference between a person with a bachelors degree and a doctorate degree working in sales."
   ]
  }
 ],
 "metadata": {
  "kernelspec": {
   "display_name": "Python 3",
   "language": "python",
   "name": "python3"
  },
  "language_info": {
   "codemirror_mode": {
    "name": "ipython",
    "version": 3
   },
   "file_extension": ".py",
   "mimetype": "text/x-python",
   "name": "python",
   "nbconvert_exporter": "python",
   "pygments_lexer": "ipython3",
   "version": "3.7.6"
  }
 },
 "nbformat": 4,
 "nbformat_minor": 4
}
